{
 "cells": [
  {
   "cell_type": "markdown",
   "id": "98be209c",
   "metadata": {},
   "source": [
    "# Assume Data wherever needed/necessary"
   ]
  },
  {
   "cell_type": "markdown",
   "id": "3325fa06",
   "metadata": {},
   "source": [
    "### Loop Statements"
   ]
  },
  {
   "cell_type": "markdown",
   "id": "7fb8c154",
   "metadata": {},
   "source": [
    "## L1 WAP to print all elements of a list using a for loop.  Take the elements of the list from the user.\n",
    "\n",
    "For e.g. Input: l = ['3','Hi','67','0','12','0','8']\n",
    "        \n",
    "        \n",
    "        Output: 3\n",
    "                Hi\n",
    "                67\n",
    "                0\n",
    "                12\n",
    "                0\n",
    "                8"
   ]
  },
  {
   "cell_type": "code",
   "execution_count": null,
   "id": "d568b83b",
   "metadata": {},
   "outputs": [],
   "source": [
    "x=int(input(\"Enter the number of elements to be entered in the list: \"))\n",
    "l=[]\n",
    "ele=0\n",
    "print(\"Enter the elements: \")\n",
    "for i in range(x):\n",
    "    ele=input()\n",
    "    l.append(ele)\n",
    "print(l)\n",
    "for j in range(x):\n",
    "    print(l[j])"
   ]
  },
  {
   "cell_type": "code",
   "execution_count": null,
   "id": "72a39b8c",
   "metadata": {},
   "outputs": [],
   "source": [
    "#L2\n",
    "WAP to take inputs from user to make a list. Length of the list has to be taken from the user.\n",
    "Again take one input from user and search it in the list and delete that element, if found.\n",
    "If not found, print \"Element not present\".\n",
    "\n",
    "For e.g. Input: len_list = 5\n",
    "                list = [\"a\", \"b\", \"y\", \"e\", \"p\"]\n",
    "                search_element = \"g\"\n",
    "                    Output: \"Element not found\"\n",
    "                search_element = \"e\"\n",
    "                    Output: [\"a\", \"b\", \"y\", \"p\"]"
   ]
  },
  {
   "cell_type": "code",
   "execution_count": null,
   "id": "261d171f",
   "metadata": {},
   "outputs": [],
   "source": [
    "x=int(input(\"Enter the number of elements to be entered in the list: \"))\n",
    "l=[]\n",
    "ele=0\n",
    "print(\"Enter the elements: \")\n",
    "for i in range(x):\n",
    "    ele=input()\n",
    "    l.append(ele)\n",
    "print(l)\n",
    "while 1:\n",
    "    k=input(\"Enter the element to be searched: \\n press 007 to exit: \")\n",
    "    if k == '007':\n",
    "        break\n",
    "    if k in l:\n",
    "        l.pop(l.index(k))\n",
    "        print(l)\n",
    "    else:\n",
    "        print(\"Element not found\")"
   ]
  },
  {
   "cell_type": "code",
   "execution_count": null,
   "id": "b465bbf4",
   "metadata": {},
   "outputs": [],
   "source": [
    "# #L3\n",
    "Make a grading system for a school based on the marks of the students using the following criteria.\n",
    "Marks 0 - 40 : Grade F\n",
    "     41 - 50 : Grade E\n",
    "     51 - 70 : Grade D\n",
    "     71 - 80 : Grade C\n",
    "     81 - 90 : Grade B\n",
    "     91 - 100: Grade A\n",
    "Continuously take marks as input from the user and print the grade. \n",
    "The user can enter \"Stop\" to stop the loop."
   ]
  },
  {
   "cell_type": "code",
   "execution_count": null,
   "id": "8aebc265",
   "metadata": {},
   "outputs": [],
   "source": [
    "while 1:\n",
    "    marks=input(\"Enter Total Marks: \")\n",
    "    if marks ==\"Stop\" or marks == \"stop\":\n",
    "        break\n",
    "    elif float(marks)>90:\n",
    "        print(\"Grade A\")\n",
    "    elif float(marks)>80:\n",
    "        print(\"Grade B\")\n",
    "    elif float(marks)>70:\n",
    "        print(\"Grade C\")\n",
    "    elif float(marks)>50:\n",
    "        print(\"Grade D\")\n",
    "    elif float(marks)>40:\n",
    "        print(\"Grade E\")\n",
    "    elif float(marks)>=0:\n",
    "        print(\"Grade F\")\n",
    "    else:\n",
    "        print(\"Wrong Input, Enter Again: \")"
   ]
  },
  {
   "cell_type": "code",
   "execution_count": null,
   "id": "cbcd57d2",
   "metadata": {},
   "outputs": [],
   "source": [
    "#L4\n",
    "WAP to save the cube of all numbers from 1 to a number n in list, \n",
    "where n is taken as input from the user.\n",
    "\n",
    "For e.g. Input: 5\n",
    "        Output: [1, 8, 27, 64, 125]  #Cube of numbers from 1 to 5 where 5 is the input from the user"
   ]
  },
  {
   "cell_type": "code",
   "execution_count": null,
   "id": "5b8ccb7a",
   "metadata": {},
   "outputs": [],
   "source": [
    "ls=[]\n",
    "#x=int(input(\"Enter the range: \"))\n",
    "#for i in range(1,x+1):\n",
    "for i in range(1,(int(input(\"Enter the range: \"))+1)):\n",
    "    ls.append(i**3)\n",
    "print(ls)\n"
   ]
  },
  {
   "cell_type": "code",
   "execution_count": null,
   "id": "61349afa",
   "metadata": {},
   "outputs": [],
   "source": [
    "#L5\n",
    "WAP to print even numbers in a given range in reverse order. Take the range from the user.\n",
    "\n",
    "For e.g. Input: start = 3\n",
    "                End = 14\n",
    "        Output: 14, 12, 10, 8, 6, 4"
   ]
  },
  {
   "cell_type": "code",
   "execution_count": null,
   "id": "a98ae036",
   "metadata": {},
   "outputs": [],
   "source": [
    "x=int(input(\"Enter Start: \"))\n",
    "y=int(input(\"Enter End: \"))\n",
    "l1=[]\n",
    "for i in range(x,y+1):\n",
    "    if i%2==0:\n",
    "        l1.append(i)\n",
    "print(l1[::-1])"
   ]
  },
  {
   "cell_type": "code",
   "execution_count": null,
   "id": "d11d5f90",
   "metadata": {},
   "outputs": [],
   "source": [
    "#L6\n",
    "WAP to print odd numbers in a given range in reverse order.\n",
    "Take the range from the user.\n",
    "\n",
    "For e.g. Input: start = 3\n",
    "                End = 14\n",
    "        Output: 13, 11, 9, 7, 5, 3"
   ]
  },
  {
   "cell_type": "code",
   "execution_count": null,
   "id": "396bab9c",
   "metadata": {},
   "outputs": [],
   "source": [
    "x=int(input(\"Enter Start: \"))\n",
    "y=int(input(\"Enter End: \"))\n",
    "l1=[]\n",
    "for i in range(x,y+1):\n",
    "    if i%2!=0:\n",
    "        l1.append(i)\n",
    "print(l1[::-1])"
   ]
  },
  {
   "cell_type": "code",
   "execution_count": null,
   "id": "8978b02e",
   "metadata": {},
   "outputs": [],
   "source": [
    "# L7\n",
    "WAP to print multiplication table of a number taken as input from the user.\n",
    "\n",
    "For e.g. Input: 5\n",
    "        Output: 5*1 = 5\n",
    "                5*2 = 10\n",
    "                .\n",
    "                .\n",
    "                .\n",
    "                5*10 = 50"
   ]
  },
  {
   "cell_type": "code",
   "execution_count": null,
   "id": "1a879f91",
   "metadata": {},
   "outputs": [],
   "source": [
    "k=int(input(\"Enter the Number whose table is to be calculated: \"))\n",
    "for i in range(1,11):\n",
    "    print(k,\" * \",i,\" = \",k*i)"
   ]
  },
  {
   "cell_type": "code",
   "execution_count": null,
   "id": "28c41e50",
   "metadata": {},
   "outputs": [],
   "source": [
    "# L8\n",
    "WAP to print the following pattern.\n",
    "e.g. i/p: n = 4\n",
    "    o/p:\n",
    "        1\n",
    "        1 2\n",
    "        1 2 3\n",
    "        1 2 3 4"
   ]
  },
  {
   "cell_type": "code",
   "execution_count": null,
   "id": "ef1e0d3e",
   "metadata": {},
   "outputs": [],
   "source": [
    "x=int(input(\"Enter Range: \"))\n",
    "st=\"\"\n",
    "for i in range(1,x+1):\n",
    "    st+=(str(i)+\" \")\n",
    "    print(st)"
   ]
  },
  {
   "cell_type": "code",
   "execution_count": null,
   "id": "aaf01bb1",
   "metadata": {},
   "outputs": [],
   "source": [
    "#L9\n",
    "Write a program to calculate the sum of series up to n terms for a digit d. n & d are taken as input from the user.\n",
    "\n",
    "For example:\n",
    "    Input: n = 5, d = 2\n",
    "    Logic: 2 + 22 + 222 + 2222 + 22222 \n",
    "    Output: 24690"
   ]
  },
  {
   "cell_type": "code",
   "execution_count": null,
   "id": "09dfce41",
   "metadata": {},
   "outputs": [],
   "source": [
    "x=int(input(\"Enter number of terms: \"))\n",
    "y=input(\"Enter Digit: \")\n",
    "s=0\n",
    "ll=[]\n",
    "for i in range(1,x+1):\n",
    "    ll.append(y*i)\n",
    "    s+=int(ll[i-1])\n",
    "print(ll)\n",
    "print(s)"
   ]
  },
  {
   "cell_type": "code",
   "execution_count": null,
   "id": "d83238f3",
   "metadata": {},
   "outputs": [],
   "source": [
    "#L10\n",
    "WAP that keeps on accepting numbers from the user until the user enters Zero(0) as input.\n",
    "Display the sum and average of all the numbers.\n",
    "\n",
    "For example:\n",
    "    Input: 3, 6, 8, 2, 5, Stop\n",
    "    Output: Sum = 24\n",
    "            Average = 4.8"
   ]
  },
  {
   "cell_type": "code",
   "execution_count": null,
   "id": "e64f793f",
   "metadata": {},
   "outputs": [],
   "source": [
    "sm=0\n",
    "ctr=0\n",
    "while 1:\n",
    "    x=int(input(\"Enter Number: \"))\n",
    "    if x!=0:\n",
    "        sm+=x\n",
    "        ctr+=1\n",
    "    else: break\n",
    "print(\"Sum= \",sm)\n",
    "print(\"Average= \",(sm/ctr))\n",
    "        "
   ]
  },
  {
   "cell_type": "code",
   "execution_count": null,
   "id": "868c2346",
   "metadata": {},
   "outputs": [],
   "source": [
    "#L11\n",
    "Accept n numbers from the user and display their average. n is input from the user.\n",
    "\n",
    "For example:\n",
    "    Input: n = 5\n",
    "        Numbers = 3, 6, 2, 9, 0\n",
    "    Output: Average = 4.0"
   ]
  },
  {
   "cell_type": "code",
   "execution_count": null,
   "id": "d321acab",
   "metadata": {},
   "outputs": [],
   "source": [
    "num=int(input(\"Enter the total numbe rof numbers to be entered\"))\n",
    "s=0\n",
    "for i in range(num):\n",
    "    x=int(input(\"Enter Number: \"))\n",
    "    s+=x\n",
    "print(\"Average = \",s/num)"
   ]
  },
  {
   "cell_type": "markdown",
   "id": "7f8cc551",
   "metadata": {},
   "source": [
    "### String Questions"
   ]
  },
  {
   "cell_type": "code",
   "execution_count": null,
   "id": "c4a41dfd",
   "metadata": {},
   "outputs": [],
   "source": [
    "#S1\n",
    "Write a Python program to count the number of each of the characters (character frequency) \n",
    "   in a string input by the user. Ignore the case.\n",
    "   For example: Input: \"Python is great\"\n",
    "\t\tOutput: P = 1, y = 1, t = 2, and so on..."
   ]
  },
  {
   "cell_type": "code",
   "execution_count": null,
   "id": "63c17124",
   "metadata": {},
   "outputs": [],
   "source": [
    "st=input(\"Enter a String: \")\n",
    "for i in range(len(st)):\n",
    "    if st[i] not in \" \": \n",
    "        print(st[i],\" = \",st.count(st[i]),end=\",\")"
   ]
  },
  {
   "cell_type": "code",
   "execution_count": null,
   "id": "237132c5",
   "metadata": {},
   "outputs": [],
   "source": [
    "#S2\n",
    "Write a Python program to find the digits which are absent in a given mobile number.\n",
    "\n",
    "   For example: Input : 9354328855\n",
    "                Output: 0167"
   ]
  },
  {
   "cell_type": "code",
   "execution_count": null,
   "id": "9682d8e2",
   "metadata": {},
   "outputs": [],
   "source": [
    "ph=input(\"Enter phone number: \")\n",
    "dig='0123456789'\n",
    "for i in dig:\n",
    "    if i not in ph:\n",
    "        print(i,end=\"\")"
   ]
  },
  {
   "cell_type": "code",
   "execution_count": null,
   "id": "503e7142",
   "metadata": {},
   "outputs": [],
   "source": [
    "#S3\n",
    "WAP in python to find average of n numbers taken as input from the user in realtime."
   ]
  },
  {
   "cell_type": "code",
   "execution_count": null,
   "id": "9f9d6fbd",
   "metadata": {},
   "outputs": [],
   "source": [
    "sm=0\n",
    "ctr=0\n",
    "x=int(input(\"Average of how many numbers: \"))\n",
    "for i in range(x):\n",
    "    k=int(input(\"Enter Number: \"))\n",
    "    sm+=k\n",
    "    ctr+=1\n",
    "print(\"Average is :\",(sm/ctr))"
   ]
  },
  {
   "cell_type": "code",
   "execution_count": null,
   "id": "e6e2e6db",
   "metadata": {},
   "outputs": [],
   "source": [
    "#S4\n",
    "WAP in python that accepts a hyphen-separated sequence of \n",
    "alphabets as input and prints the words in a hyphen-separated \n",
    "sequence after sorting them alphabetically.\n",
    "\n",
    "For e.g. Input: \"p-y-t-h-o-n\"\n",
    "        Output: ['h', 'n','o', 'p', 't', 'y']"
   ]
  },
  {
   "cell_type": "code",
   "execution_count": null,
   "id": "36f2860f",
   "metadata": {},
   "outputs": [],
   "source": [
    "inp=input(\"Enter hyphen-separated sequence of alphabets: \")\n",
    "#inp1=inp.split(sep=\"-\")\n",
    "print(sorted(inp.split(sep=\"-\")))"
   ]
  },
  {
   "cell_type": "code",
   "execution_count": null,
   "id": "2610b75d",
   "metadata": {},
   "outputs": [],
   "source": [
    "#S5\n",
    "WAP in python to find the number of vowels, consonants, digits, special \n",
    "characters and white space characters in a string input by the user.\n",
    "\n",
    "Example: Input: \"Qwerty@123\"\n",
    "\toutput: v = 1, c = 5, d = 3, w = 0, s = 1"
   ]
  },
  {
   "cell_type": "code",
   "execution_count": null,
   "id": "ab4417d4",
   "metadata": {},
   "outputs": [],
   "source": [
    "inp=input(\"Enter a String: \")\n",
    "v=c=d=w=s=0\n",
    "for i in inp:\n",
    "#      print(inp.index(i))\n",
    "#      print(inp[inp.index(i)])\n",
    "    if inp[inp.index(i)].isdigit():\n",
    "        d+=1\n",
    "    if inp[inp.index(i)].isspace():\n",
    "        w+=1\n",
    "    if inp[inp.index(i)] in 'aeiou':\n",
    "        v+=1\n",
    "    else:\n",
    "        c+=1\n",
    "    if not inp[inp.index(i)].isalnum() and not inp[inp.index(i)].isspace():\n",
    "        s+=1\n",
    "print(inp)\n",
    "print(\"Vowels: \",v,\"Consonents: \",(c-d-w-s),\"Digits:\",d,\"White Space: \",w,\"Special Character: \",s)\n",
    "        "
   ]
  },
  {
   "cell_type": "code",
   "execution_count": null,
   "id": "9df6dd1a",
   "metadata": {},
   "outputs": [],
   "source": [
    "#S6\n",
    "WAP in python to check the strength of the password input by the user based on the following features.\n",
    "    Length minimum of 8 characters  (+1 Strength)\n",
    "    Combination of upper case & lower case characters (+1 Strength)\n",
    "    Combination of alphabets & digits (+1 Strength)\n",
    "    Use of Special Characters (+1 Strength)\n",
    "    \n",
    "Example: Input: \"Qwerty@123\"\n",
    "        Output: Strength = 4"
   ]
  },
  {
   "cell_type": "code",
   "execution_count": null,
   "id": "5d779def",
   "metadata": {},
   "outputs": [],
   "source": [
    "val=ctr=ctr1=ctr2=ctr3=0\n",
    "pwd=input(\"Enter the Password: \")\n",
    "if len(pwd)>=8:\n",
    "    val+=1\n",
    "for i in pwd:\n",
    "    if not pwd[pwd.index(i)].isalnum() and not pwd[pwd.index(i)].isspace():\n",
    "        ctr+=1\n",
    "    if pwd[pwd.index(i)].isupper():\n",
    "        ctr1+=1\n",
    "    if pwd[pwd.index(i)].islower():\n",
    "        ctr2+=1\n",
    "    if pwd[pwd.index(i)].isdigit():\n",
    "        ctr3+=1\n",
    "if ctr>=1: val+=1\n",
    "if ctr1>=1 and ctr2>=1: val+=1\n",
    "if ctr3>=1 : val+=1\n",
    "print(\"Strength of Password is :\", val)"
   ]
  },
  {
   "cell_type": "code",
   "execution_count": null,
   "id": "df044a7b",
   "metadata": {},
   "outputs": [],
   "source": [
    "#S7\n",
    "WAP in python to compare two strings and tell the user if both of those strings are same or not. \n",
    "Ignore their case.\n",
    "\n",
    "Example: Input String1: \"Hello\"\n",
    "\tInput String2: \"hello\"\n",
    "\tOutput: Strings are same"
   ]
  },
  {
   "cell_type": "code",
   "execution_count": null,
   "id": "9cf84851",
   "metadata": {},
   "outputs": [],
   "source": [
    "str1=input(\"Enter first string: \")\n",
    "str2=input(\"Enter second string: \")\n",
    "if str1.lower()==str2.lower(): print(\"String are same\")\n",
    "else: print(\"Strings are different\")"
   ]
  },
  {
   "cell_type": "code",
   "execution_count": null,
   "id": "2da860ee",
   "metadata": {},
   "outputs": [],
   "source": [
    "#S8\n",
    "WAP in python to calculate the number of times a character is repeated in a given string.\n",
    "Take the string and character from the user.\n",
    "\n",
    "Example: Input String: \"Neil Nitin Mukesh\"\n",
    "        Input Character: \"e\"\n",
    "        Output: 2"
   ]
  },
  {
   "cell_type": "code",
   "execution_count": null,
   "id": "fca4998c",
   "metadata": {},
   "outputs": [],
   "source": [
    "st=input(\"Enter a String: \")\n",
    "inp=input(\"Enter a Character: \")\n",
    "print(st.lower().count(inp.lower()))\n"
   ]
  },
  {
   "cell_type": "code",
   "execution_count": null,
   "id": "dc4b11d8",
   "metadata": {},
   "outputs": [],
   "source": [
    "#S9\n",
    "WAP in python which accepts string from the user and displays only those characters/elements which are present at an even index.\n",
    "\n",
    "Example: \n",
    "    Input: \"Python\"\n",
    "    Output: Pto"
   ]
  },
  {
   "cell_type": "code",
   "execution_count": null,
   "id": "b842b543",
   "metadata": {},
   "outputs": [],
   "source": [
    "st=input(\"Enter String: \")\n",
    "st[::2]"
   ]
  },
  {
   "cell_type": "code",
   "execution_count": null,
   "id": "852e73ed",
   "metadata": {},
   "outputs": [],
   "source": [
    "#S10\n",
    "WAP in python to capitalize the first letter of the First Name and Surname where whole name is taken as input from the user.\n",
    "\n",
    "Example: Input: \"first last\" or \"FIRST LAST\" or \"first lAst\" i.e. Input can be in any case.\n",
    "        Output: \"First Last\""
   ]
  },
  {
   "cell_type": "code",
   "execution_count": null,
   "id": "293539cd",
   "metadata": {},
   "outputs": [],
   "source": [
    "nm=input(\"Enter Full Name: \")\n",
    "print(nm.title())"
   ]
  },
  {
   "cell_type": "code",
   "execution_count": null,
   "id": "604fdff5",
   "metadata": {},
   "outputs": [],
   "source": [
    "#S11\n",
    "Write a Python program that accepts a comma separated sequence of words as input and \n",
    "prints the unique words in sorted form (alphanumerically).\n",
    "\n",
    "\tSample Words : red, white, black, red, green    \n",
    "\tExpected Result : black, green, red, red, white"
   ]
  },
  {
   "cell_type": "code",
   "execution_count": null,
   "id": "2a0605f9",
   "metadata": {},
   "outputs": [],
   "source": [
    "st=input(\"Enter comma separated sequence of words: \")\n",
    "st1=st.split(sep=',')\n",
    "(','.join(str(i) for i in sorted(st1)))"
   ]
  },
  {
   "cell_type": "code",
   "execution_count": null,
   "id": "d66b4d0d",
   "metadata": {},
   "outputs": [],
   "source": [
    "#S12\n",
    "Write a Python program to count repeated characters in a string.\n",
    "\n",
    "\tSample string: 'thequickbrownfoxjumpsoverthelazydog'\n",
    "\tExpected output :\n",
    "\t\t\to 4\n",
    "\t\t\te 3\n",
    "\t\t\tu 2\n",
    "\t\t\th 2\n",
    "\t\t\tr 2\n",
    "\t\t\tt 2"
   ]
  },
  {
   "cell_type": "code",
   "execution_count": null,
   "id": "3501cce6",
   "metadata": {},
   "outputs": [],
   "source": [
    "st=input(\"Enter a String: \")\n",
    "for i in st:\n",
    "    if i in (st[(st.index(i)+1):]):\n",
    "        print(i,\" \",st.count(i))\n",
    "        "
   ]
  },
  {
   "cell_type": "markdown",
   "id": "53ffeb9c",
   "metadata": {},
   "source": [
    "### List Questions"
   ]
  },
  {
   "cell_type": "code",
   "execution_count": null,
   "id": "21cd9a24",
   "metadata": {},
   "outputs": [],
   "source": [
    "#Li1\n",
    "WAP to remove empty strings from the list of strings. Take list as input from the user.\n",
    "\n",
    "For example: Input: [\"My\", \"name\", \"\", \"is\", \"\", \"Alankrita\", \"\", \".\"]\n",
    "            Output: [\"My\", \"name\", \"is\", \"Alankrita\", \".\"]"
   ]
  },
  {
   "cell_type": "code",
   "execution_count": null,
   "id": "22795068",
   "metadata": {},
   "outputs": [],
   "source": [
    "ls=[]\n",
    "ls1=[]\n",
    "nm=''\n",
    "while 1:\n",
    "    nm=input(\"Enter string, type 'stop' to exit...\")\n",
    "    if nm.lower()=='stop':\n",
    "        break\n",
    "    ls1.append(nm)\n",
    "    if not nm.isspace():\n",
    "        ls.append(nm)\n",
    "#print(\"Full List: \",ls1)\n",
    "print(\"Desired List: \",ls)\n",
    "\n",
    "    "
   ]
  },
  {
   "cell_type": "code",
   "execution_count": null,
   "id": "662f341f",
   "metadata": {},
   "outputs": [],
   "source": [
    "#Li2\n",
    "WAP to make a list of all the characters starting from character 'A' to the input character from the user.\n",
    "\n",
    "For e.g. Input: 'H'\n",
    "        Output: [\"A\", \"B\", \"C\", \"D\", \"E\", \"F\", \"G\", \"H\"]"
   ]
  },
  {
   "cell_type": "code",
   "execution_count": null,
   "id": "75136ef9",
   "metadata": {},
   "outputs": [],
   "source": [
    "ls=[]\n",
    "ch=input(\"Enter the character: \")\n",
    "for i in range(ord('A'),ord(ch.upper())+1):\n",
    "    ls.append(chr(i))\n",
    "print(ls)"
   ]
  },
  {
   "cell_type": "code",
   "execution_count": null,
   "id": "4df3708e",
   "metadata": {},
   "outputs": [],
   "source": [
    "#Li3\n",
    "WAP to check if a specific employee e is present in a company or not. Employee names are saved in a list.\n",
    "e is taken as input from the user.\n",
    "\n",
    "For example: empList = [\"Ashwin\", \"Rachit\", \"Sanjana\", \"David\", \"Komal\"]\n",
    "            Input1: \"Komal\"\n",
    "            Output1: \"Employee is present\"\n",
    "            \n",
    "            Input2: \"Harshil\"\n",
    "            Output2: \"Employee is not present\""
   ]
  },
  {
   "cell_type": "code",
   "execution_count": null,
   "id": "ce96cf0d",
   "metadata": {},
   "outputs": [],
   "source": [
    "ls=[]\n",
    "while 1:\n",
    "    nm= input(\"Enter Names, press 'Stop' to exit...: \")\n",
    "    if nm.lower()=='stop':\n",
    "        break\n",
    "    else:\n",
    "        ls.append(nm.title())\n",
    "print(\"The list is: \",ls)\n",
    "e=input(\"Enter Employee to be searched: \")\n",
    "if e.title() in ls:\n",
    "    print(\"Employee Present! \")\n",
    "else: \n",
    "    print(\"Employee Absent! \")\n",
    "    "
   ]
  },
  {
   "cell_type": "code",
   "execution_count": null,
   "id": "576b1ad8",
   "metadata": {},
   "outputs": [],
   "source": [
    "#Li4\n",
    "Write a python program to find the maximum and minimum number in a list of 10 elements \n",
    "   (taken as input from the user) and also find the index position of the these numbers.\n",
    "    \n",
    "   For example: Input : [25, 2, 1, 86, 42, 32, 27, 12, 31, 10]\n",
    "\t\tOutput: Max Number: 86, Index of Max Number: 3\n",
    "\t\t\tMin Number: 1, Index of Min Number: 2"
   ]
  },
  {
   "cell_type": "code",
   "execution_count": null,
   "id": "3160502b",
   "metadata": {},
   "outputs": [],
   "source": [
    "ls=[]\n",
    "ele=0\n",
    "for i in range(10):\n",
    "    ele=int(input(\"Enter Numbers :\"))\n",
    "    ls.append(ele)\n",
    "print(ls)\n",
    "print(\"Max number: \",max(ls), \"It's index is: \",ls.index(max(ls)))\n",
    "print(\"Min number: \",min(ls), \"It's index is: \",ls.index(min(ls)))"
   ]
  },
  {
   "cell_type": "markdown",
   "id": "7922b0d2",
   "metadata": {},
   "source": [
    "###### Li5\n",
    "Given two Python lists of same length. Iterate both lists simultaneously such that list1 \n",
    "   should display item in original order and list2 in reverse order.\n",
    "    \n",
    "   For example: Input = list1 = [10, 20, 30, 40]\n",
    "\t\t\tlist2 = [100, 200, 300, 400]\n",
    "            Output: 10 400\n",
    "                    20 300\n",
    "                    30 200\n",
    "                    40 100"
   ]
  },
  {
   "cell_type": "code",
   "execution_count": null,
   "id": "acd16d17",
   "metadata": {},
   "outputs": [],
   "source": [
    "ls1=[10,20,30,40,50,60,70,80,90]\n",
    "ls2=[100,200,300,400,500,600,700,800,900]\n",
    "i=0\n",
    "j=len(ls2)-1\n",
    "while i < len(ls1):\n",
    "    print(ls1[i],\"  \",ls2[j])\n",
    "    i+=1\n",
    "    j-=1"
   ]
  },
  {
   "cell_type": "markdown",
   "id": "4fb8f6ed",
   "metadata": {},
   "source": [
    "###### Li6\n",
    "WAP to concatenate two lists index-wise.\n",
    "list1 = [\"M\", \"na\", \"i\", \"Ashu\"]\n",
    "list2 = [\"y\", \"me\", \"s\", \"tosh\"]\n",
    "    Output: ['My', 'name', 'is', 'Ashutosh']"
   ]
  },
  {
   "cell_type": "code",
   "execution_count": null,
   "id": "dc79dc3d",
   "metadata": {},
   "outputs": [],
   "source": [
    "list1 = [\"M\", \"na\", \"i\", \"Ashu\"]\n",
    "list2 = [\"y\", \"me\", \"s\", \"tosh\"]\n",
    "list3=[]\n",
    "st=\"\"\n",
    "for i in range(len(list1)):\n",
    "    st=list1[i]+list2[i]\n",
    "    list3.append(st)\n",
    "print(list3)"
   ]
  },
  {
   "cell_type": "code",
   "execution_count": null,
   "id": "b712d006",
   "metadata": {},
   "outputs": [],
   "source": [
    "#Li7\n",
    "WAP to remove/delete items from a list while iterating without creating a duplicate list.\n",
    "Take the elements to be deleted from the user in real-time."
   ]
  },
  {
   "cell_type": "code",
   "execution_count": null,
   "id": "e1d11161",
   "metadata": {},
   "outputs": [],
   "source": [
    "list.remove?"
   ]
  },
  {
   "cell_type": "code",
   "execution_count": null,
   "id": "b4b95d78",
   "metadata": {},
   "outputs": [],
   "source": [
    "lst1=[10,20,30,40,50,60,70,80,90,100]\n",
    "ele=int(input(\"Enter number to be deleted: \"))\n",
    "if ele in lst1: lst1.remove(ele)\n",
    "else: print(\"Item not in list\")\n",
    "print(lst1)"
   ]
  },
  {
   "cell_type": "markdown",
   "id": "ab1d6453",
   "metadata": {},
   "source": [
    "##### Li8\n",
    "WAP to generate a Python list of all the prime numbers between n to m where n & m are taken as input from the user."
   ]
  },
  {
   "cell_type": "code",
   "execution_count": null,
   "id": "d43acdc6",
   "metadata": {},
   "outputs": [],
   "source": [
    "n=int(input(\"Enter start of Range: \"))\n",
    "m=int(input(\"Enter end of Range: \"))\n",
    "i=2\n",
    "lst=[]\n",
    "for j in range(n,m+1):\n",
    "    ctr=0\n",
    "    for k in range(i,j):\n",
    "        if j%k==0:\n",
    "            ctr+=1           \n",
    "    if ctr==0: lst.append(j)\n",
    "print(lst)"
   ]
  },
  {
   "cell_type": "code",
   "execution_count": null,
   "id": "b8e1184a",
   "metadata": {},
   "outputs": [],
   "source": [
    "#Li9\n",
    "WAP to concatenate two lists in the following order:\n",
    "    list1 = [\"Hello \", \"World\"]\n",
    "    list2 = [\"Hi\", \"There\"]\n",
    "    Output: ['Hello Hi', 'Hello There', 'World Hi', 'World There']"
   ]
  },
  {
   "cell_type": "code",
   "execution_count": null,
   "id": "dc8f2e69",
   "metadata": {},
   "outputs": [],
   "source": [
    "list1 = [\"Hello \", \"World\"]\n",
    "list2 = [\"Hi\", \"There\"]\n",
    "list3=[]\n",
    "for i in list1:\n",
    "    for j in list2:\n",
    "        list3.append(list1[list1.index(i)]+\" \"+list2[list2.index(j)])\n",
    "print(list3)"
   ]
  },
  {
   "cell_type": "code",
   "execution_count": null,
   "id": "3bd17f9a",
   "metadata": {},
   "outputs": [],
   "source": [
    "#Li10\n",
    "Given two lists having names of students and their corrsponding marks.\n",
    "names = [\"Ashutosh\", \"Ajay\", \"Alankrita\", \"Rachit\", \"Komal\", \"Anil\"]\n",
    "marks = [23, 21, 26, 23, 27, 24]\n",
    "Take name of a student as input from the user and output his/her marks.\n",
    "\n",
    "For e.g.:\n",
    "    Input1: \"Alankrita\"\n",
    "    Output1: 26\n",
    "        \n",
    "    Input2: \"Someone\"\n",
    "    Output2: \"Student not found\""
   ]
  },
  {
   "cell_type": "code",
   "execution_count": null,
   "id": "0fd35e17",
   "metadata": {},
   "outputs": [],
   "source": [
    "names = [\"Ashutosh\", \"Ajay\", \"Alankrita\", \"Rachit\", \"Komal\", \"Anil\"]\n",
    "marks = [23, 21, 26, 23, 27, 24]\n",
    "dict2={}\n",
    "ctr=0\n",
    "inp=input(\"Enter Student name: \")\n",
    "if inp.title() not in names:\n",
    "    print(\"Student Not Found\")\n",
    "for i in names:\n",
    "    if inp.lower()==i.lower():\n",
    "        print(marks[names.index(i)])\n",
    "    \n"
   ]
  },
  {
   "cell_type": "code",
   "execution_count": null,
   "id": "0398f52b",
   "metadata": {},
   "outputs": [],
   "source": [
    "#Li11\n",
    "Extended question of #Li10\n",
    "Add an option to change marks of any students in the same code of #Li10. Take student name and new marks from the user. \n",
    "Print the modified list as output.\n",
    "\n",
    "For e.g.: Input: \"Ajay\"\n",
    "        new_mark: 25\n",
    "        Output: marks = [23, 25, 26, 23, 27, 24]"
   ]
  },
  {
   "cell_type": "code",
   "execution_count": null,
   "id": "0ed2db90",
   "metadata": {},
   "outputs": [],
   "source": [
    "names = [\"Ashutosh\", \"Ajay\", \"Alankrita\", \"Rachit\", \"Komal\", \"Anil\"]\n",
    "marks = [23, 21, 26, 23, 27, 24]\n",
    "dict2={}\n",
    "ctr=0\n",
    "inp=input(\"Enter Student name: \")\n",
    "if inp.title() not in names:\n",
    "    print(\"Student Not Found\")\n",
    "else: \n",
    "    k=int(input(\"Enter New Marks: \"))\n",
    "for i in names:\n",
    "    if inp.lower()==i.lower():\n",
    "        marks[names.index(i)]=k\n",
    "print(marks)"
   ]
  },
  {
   "cell_type": "code",
   "execution_count": null,
   "id": "d393113f",
   "metadata": {},
   "outputs": [],
   "source": [
    "#Li12\n",
    "Extended question of #Li10\n",
    "Give an option to enter the marks of a new student into the existing lists names and marks. Take new data as input from user.\n",
    "Print the new names and marks list as output.\n",
    "\n",
    "For e.g.: Input: New_name = \"Harshil\"\n",
    "                new_Marks = 20\n",
    "        Output: names = [\"Ashutosh\", \"Ajay\", \"Alankrita\", \"Rachit\", \"Komal\", \"Anil\", \"Harshil\"]\n",
    "                marks = [23, 21, 26, 23, 27, 24, 20]"
   ]
  },
  {
   "cell_type": "code",
   "execution_count": null,
   "id": "c57b58d4",
   "metadata": {},
   "outputs": [],
   "source": [
    "names = [\"Ashutosh\", \"Ajay\", \"Alankrita\", \"Rachit\", \"Komal\", \"Anil\"]\n",
    "marks = [23, 21, 26, 23, 27, 24]\n",
    "dict2={}\n",
    "ctr=0\n",
    "inp=input(\"Enter Student name: \")\n",
    "if inp.title() not in names:\n",
    "    n_name=input(\"Enter New Name: \")\n",
    "    n_marks=int(input(\"Enter New Marks: \"))\n",
    "    names.append(n_name)\n",
    "    marks.append(n_marks)\n",
    "else: print(\"Name already exists! \")\n",
    "print(names,\"\\n\",marks)\n",
    "    # for i in names:\n",
    "#     if inp.lower()==i.lower():\n",
    "#         print(marks[names.index(i)])"
   ]
  },
  {
   "cell_type": "markdown",
   "id": "32e0f398",
   "metadata": {},
   "source": [
    "### Dictionary Questions"
   ]
  },
  {
   "cell_type": "code",
   "execution_count": null,
   "id": "ff59f506",
   "metadata": {},
   "outputs": [],
   "source": [
    "#D1\n",
    "WAP in Python to merge following dictionaries to create a new one:\n",
    "\tdic1={1:10, 2:20}\n",
    "\tdic2={3:30, 4:40}\n",
    "\tdic3={5:50, 6:60}"
   ]
  },
  {
   "cell_type": "code",
   "execution_count": null,
   "id": "16765013",
   "metadata": {},
   "outputs": [],
   "source": [
    "dic1={1:10, 2:20}\n",
    "dic2={3:30, 4:40}\n",
    "dic3={5:50, 6:60}\n",
    "dic4={}\n",
    "dic4.update(dic1)\n",
    "dic4.update(dic2)\n",
    "dic4.update(dic3)\n",
    "print(dic4)"
   ]
  },
  {
   "cell_type": "code",
   "execution_count": null,
   "id": "797428e1",
   "metadata": {},
   "outputs": [],
   "source": [
    "#D2\n",
    "WAP in python to generate and print a dictionary that contains a number (between 1 and n) \n",
    "in the form {x : x*x} where n is the input from the user.\n",
    "\n",
    "For e.g. Input: 4\n",
    "        Output: {1:1, 2:4, 3:9, 4:16}"
   ]
  },
  {
   "cell_type": "code",
   "execution_count": null,
   "id": "a5a3fb9d",
   "metadata": {},
   "outputs": [],
   "source": [
    "n=int(input(\"Enter Range: \"))\n",
    "d={}\n",
    "for i in range(1,n+1):\n",
    "    d[i]=i**2\n",
    "print(d)"
   ]
  },
  {
   "cell_type": "code",
   "execution_count": null,
   "id": "60174bf6",
   "metadata": {},
   "outputs": [],
   "source": [
    "#D3\n",
    "WAP in python to find the number of vowels, consonants, digits, white space characters & \n",
    "special characters in a string and save the result in the form of a dictionary."
   ]
  },
  {
   "cell_type": "code",
   "execution_count": null,
   "id": "f3ff6a53",
   "metadata": {},
   "outputs": [],
   "source": [
    "s=input(\"Enter a String: \")\n",
    "v=0\n",
    "d=0\n",
    "w=0\n",
    "c=0\n",
    "dict1={}\n",
    "for i in s:\n",
    "    if i in 'aeiou':\n",
    "        v+=1\n",
    "    if i.isdigit():\n",
    "        d+=1\n",
    "    if i in \" \":\n",
    "        w+=1\n",
    "c=len(s)-v-d-w\n",
    "dict1[\"Vowels\"]=v\n",
    "dict1[\"Consonents\"]=c\n",
    "dict1[\"White Spaces\"]=w\n",
    "dict1[\"Digits\"]=d\n",
    "print(dict1)"
   ]
  },
  {
   "cell_type": "code",
   "execution_count": null,
   "id": "258def4f",
   "metadata": {},
   "outputs": [],
   "source": [
    "#D4\n",
    "WAP to reverse map the dictionary items. Take dictionary as input from the user.\n",
    "\n",
    "\tFor eg., Input: d = {'A': 65, 'B': 66, 'C': 67, 'D': 68}\n",
    "            Output: d = {65: 'A', 66: 'B', 67: 'C', 68: 'D'}"
   ]
  },
  {
   "cell_type": "code",
   "execution_count": null,
   "id": "38b88fa2",
   "metadata": {},
   "outputs": [],
   "source": [
    "keys=''\n",
    "dict1={}\n",
    "dict2={}\n",
    "while 1:\n",
    "    keys=input(\"Enter Keys of the Dictionary: \")\n",
    "    if keys.lower()=='stop':\n",
    "        break\n",
    "    dict1[keys]=ord(keys)\n",
    "print(dict1)\n",
    "for i in dict1:\n",
    "    dict2[dict1[i]]=i\n",
    "print(dict2)"
   ]
  },
  {
   "cell_type": "code",
   "execution_count": null,
   "id": "5c817cc2",
   "metadata": {},
   "outputs": [],
   "source": [
    "#D5\n",
    "WAP to save Username and Password of 10 employees in an organisation. \n",
    "Take the Username and Password as input from the user one by one and save in the Dictionary."
   ]
  },
  {
   "cell_type": "code",
   "execution_count": null,
   "id": "6f322d93",
   "metadata": {},
   "outputs": [],
   "source": [
    "u_name=\"\"\n",
    "u_pwd=\"\"\n",
    "dict1={}\n",
    "for i in range(10):\n",
    "    u_name=input(\"Enter User Name: \")\n",
    "    u_pwd=input(\"Enter Password: \")\n",
    "    dict1[u_name]=u_pwd\n",
    "print(dict1)"
   ]
  },
  {
   "cell_type": "code",
   "execution_count": null,
   "id": "810470a0",
   "metadata": {},
   "outputs": [],
   "source": [
    "#D6\n",
    "Extended Question from #D5\n",
    "Write an additional functionality to check if an employee is present in the organisation or not.\n",
    "Basically \"Search\" Functionality based on their username\n",
    "Take employee name as input from the user.\n",
    "If the employee is present, print \"Present\" else print \"Not Present\""
   ]
  },
  {
   "cell_type": "code",
   "execution_count": null,
   "id": "8678dbf8",
   "metadata": {},
   "outputs": [],
   "source": [
    "u_name=\"\"\n",
    "u_pwd=\"\"\n",
    "dict1={}\n",
    "for i in range(10):\n",
    "    u_name=input(\"Enter User Name: \")\n",
    "    u_pwd=input(\"Enter Password: \")\n",
    "    dict1[u_name]=u_pwd\n",
    "print(dict1)\n",
    "s_name=input(\"Enter the User Name to be searched: \")\n",
    "if s_name in dict1:\n",
    "    print(\"Present!\")\n",
    "else:\n",
    "    print(\"Not Present!\")"
   ]
  },
  {
   "cell_type": "markdown",
   "id": "2a01d61b",
   "metadata": {},
   "source": [
    "### Misc. Questions - i.e. you can use any data type which seems feasible for question"
   ]
  },
  {
   "cell_type": "code",
   "execution_count": null,
   "id": "43bc511d",
   "metadata": {},
   "outputs": [],
   "source": [
    "#M1\n",
    "WAP in python that accepts two integers (n) & (m) from user and \n",
    "computes the value of 2n3 + 5m2 - 7n + 10"
   ]
  },
  {
   "cell_type": "code",
   "execution_count": null,
   "id": "6f90db65",
   "metadata": {},
   "outputs": [],
   "source": [
    "n=int(input(\"Enter n: \"))\n",
    "m=int(input(\"Enter m: \"))\n",
    "print((2*(n**3))+(5*(m**2))-(7*n)+10)"
   ]
  },
  {
   "cell_type": "code",
   "execution_count": null,
   "id": "1d6d90af",
   "metadata": {},
   "outputs": [],
   "source": [
    "#M2\n",
    "Write a python program to find the intersection of elements from two list \n",
    "(find the common elements in two lists)."
   ]
  },
  {
   "cell_type": "code",
   "execution_count": null,
   "id": "771d9b55",
   "metadata": {},
   "outputs": [],
   "source": [
    "m=int(input(\"Enter Range of List 1: \"))\n",
    "n=int(input(\"Enter Range of List 2: \"))\n",
    "ls1=[]\n",
    "ls2=[]\n",
    "for i in range(m):\n",
    "    k=int(input(\"Enter Numbers: \"))\n",
    "    ls1.append(k)\n",
    "for j in range(n):\n",
    "    l=int(input(\"Enter Numbers: \"))\n",
    "    ls2.append(l)\n",
    "print(\"List 1: \",ls1)\n",
    "print(\"List 2: \",ls2)\n",
    "print(\"Intersection of two lists is: \",list(set(ls1) & set(ls2)))\n"
   ]
  },
  {
   "cell_type": "code",
   "execution_count": null,
   "id": "5fcfffa3",
   "metadata": {},
   "outputs": [],
   "source": [
    "#M3\n",
    "WAP in Python to find the Max of n numbers all taken as input from the user."
   ]
  },
  {
   "cell_type": "code",
   "execution_count": null,
   "id": "12e778c6",
   "metadata": {},
   "outputs": [],
   "source": [
    "n=int(input(\"Enter Range: \"))\n",
    "ls=[]\n",
    "for i in range(n):\n",
    "    k=float(input(\"Enter number: \"))\n",
    "    ls.append(k)\n",
    "print(ls)\n",
    "print(\"Max is: \",max(ls))\n",
    "print(\"Min is: \",min(ls))\n",
    "    "
   ]
  },
  {
   "cell_type": "markdown",
   "id": "0ac83469",
   "metadata": {},
   "source": [
    "# M4\n",
    "WAP which takes a sequence of numbers from the user and check if all input numbers are unique."
   ]
  },
  {
   "cell_type": "code",
   "execution_count": null,
   "id": "ea221105",
   "metadata": {},
   "outputs": [],
   "source": [
    "ls=[]\n",
    "ctr=0\n",
    "j=1\n",
    "while 1:\n",
    "    k=input(\"Enter Numbers, enter anything except numbers to exit: \")\n",
    "    if not k.isdigit():\n",
    "        break\n",
    "    ls.append(int(k))\n",
    "nm=ls[0]    \n",
    "print(\"List is : \",ls)\n",
    "for i in ls:\n",
    "    if nm in ls[j:]:\n",
    "        print(\"Not Unique\",nm,\" is repeated\")\n",
    "        break\n",
    "    else: j+=1\n",
    "    nm=ls[ls.index(i)]\n",
    "else: print(\"All elements are unique!\")    "
   ]
  },
  {
   "cell_type": "code",
   "execution_count": null,
   "id": "4b793df9",
   "metadata": {},
   "outputs": [],
   "source": [
    "#M5\n",
    "WAP to reverse a given integer number.\n",
    "Example: Input: 105320\n",
    "        Output: 023501"
   ]
  },
  {
   "cell_type": "code",
   "execution_count": null,
   "id": "7e1e2a8f",
   "metadata": {},
   "outputs": [],
   "source": [
    "inp=int(input(\"Enter a Number: \"))\n",
    "print(\"Reverse is: \",(str(inp)[::-1]))"
   ]
  },
  {
   "cell_type": "code",
   "execution_count": null,
   "id": "1b16fd13",
   "metadata": {},
   "outputs": [],
   "source": [
    "#M6\n",
    "WAP to take 10 integer inputs from the user and save them in a list. \n",
    "The inputs have to be mix of even and odd numbers. \n",
    "Now make one list to save all the even numbers from the input list. \n",
    "Make another list for odd numbers too."
   ]
  },
  {
   "cell_type": "code",
   "execution_count": null,
   "id": "00f90cdb",
   "metadata": {},
   "outputs": [],
   "source": [
    "ls=[]\n",
    "ls_e=[]\n",
    "ls_o=[]\n",
    "k=0\n",
    "i=0\n",
    "for i in range(10):\n",
    "    k=int(input(\"Enter Number: \"))\n",
    "    ls.append(k)\n",
    "    if k%2==0 and k!=0: ls_e.append(k)\n",
    "    elif k%2!=0 and k!=0: ls_o.append(k)\n",
    "print(\"Entire List:\",ls)\n",
    "print(\"Even number List:\",ls_e)\n",
    "print(\"Odd number List: \",ls_o)"
   ]
  },
  {
   "cell_type": "markdown",
   "id": "181cc055",
   "metadata": {},
   "source": [
    "###### M7\n",
    "WAP to convert temperature in Fahrenheit to Celsius. Take the temperature from the user in float type.\n",
    "\"\"\"\n",
    "c/5=(f-32)/9\n",
    "c=((f-32)/9)*5\n",
    "\"\"\"\n"
   ]
  },
  {
   "cell_type": "code",
   "execution_count": null,
   "id": "1f1cd96c",
   "metadata": {},
   "outputs": [],
   "source": [
    "f=float(input(\"Enter temperature in Fahrenheit: \"))\n",
    "print(f,\"'F = \",round((((f-32)/9)*5),2),\"'C\")"
   ]
  },
  {
   "cell_type": "code",
   "execution_count": null,
   "id": "260d3067",
   "metadata": {},
   "outputs": [],
   "source": [
    "#M8\n",
    "WAP to continuously take Names as input from the user. \n",
    "Save the incoming names into a list as Full Name and save {First Name:Second Name} in a dictionary.\n",
    "Take inputs till the user enters \"Stop\"\n",
    "\n",
    "For e.g.: Input: \"Shahrukh Khan\", \"Gauri Khan\",...................\"Stop\"\n",
    "         Output: list1 = [\"Shahrukh Khan\", \"Gauri Khan\",....................]\n",
    "                dict1 = {\"Shahrukh\":\"Khan\", \"Gauri\":\"Khan\", .....................}"
   ]
  },
  {
   "cell_type": "code",
   "execution_count": null,
   "id": "a577fd6d",
   "metadata": {},
   "outputs": [],
   "source": [
    "ls=[]\n",
    "dict1={}\n",
    "while 1:\n",
    "    k=input(\"Enter Full Name: \")\n",
    "    if k.lower()=='stop': break\n",
    "    ls.append(k)\n",
    "    dict1[(k.split(\" \")[0])]=((k.split(\" \")[-1]))\n",
    "print(\"List is: \",ls)\n",
    "print(\"Dictionary is: \",dict1)"
   ]
  },
  {
   "cell_type": "code",
   "execution_count": null,
   "id": "5a0171bc",
   "metadata": {},
   "outputs": [],
   "source": [
    "#M9\n",
    "WAP to make a simple and compound interest calculator. Take all the necessary data as input from the user."
   ]
  },
  {
   "cell_type": "code",
   "execution_count": null,
   "id": "aa6d0186",
   "metadata": {},
   "outputs": [],
   "source": [
    "#SI=prt/100\n",
    "#CI=CI = P( 1 + r/100)^n - P"
   ]
  },
  {
   "cell_type": "code",
   "execution_count": null,
   "id": "7051fd31",
   "metadata": {},
   "outputs": [],
   "source": [
    "p=float(input(\"Enter Principle: \"))\n",
    "r=float(input(\"Enter rate of interest: \"))\n",
    "n=float(input(\"Enter diration in years: \"))\n",
    "SI=(p*r*n)/100\n",
    "CI=(p*(1+(r/100))**n)-p\n",
    "print(\"Simple Interest is: \",round(SI,2))\n",
    "print(\"Compound Interest is: \",round(CI,2))"
   ]
  },
  {
   "cell_type": "code",
   "execution_count": null,
   "id": "d7a6f98d",
   "metadata": {},
   "outputs": [],
   "source": []
  },
  {
   "cell_type": "code",
   "execution_count": null,
   "id": "9261ae89",
   "metadata": {},
   "outputs": [],
   "source": []
  }
 ],
 "metadata": {
  "kernelspec": {
   "display_name": "Python 3 (ipykernel)",
   "language": "python",
   "name": "python3"
  },
  "language_info": {
   "codemirror_mode": {
    "name": "ipython",
    "version": 3
   },
   "file_extension": ".py",
   "mimetype": "text/x-python",
   "name": "python",
   "nbconvert_exporter": "python",
   "pygments_lexer": "ipython3",
   "version": "3.9.13"
  }
 },
 "nbformat": 4,
 "nbformat_minor": 5
}
